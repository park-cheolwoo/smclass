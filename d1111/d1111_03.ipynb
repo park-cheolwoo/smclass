{
 "cells": [
  {
   "cell_type": "code",
   "execution_count": 8,
   "metadata": {},
   "outputs": [],
   "source": [
    "import pandas as pd\n",
    "import numpy as np\n",
    "df = pd.read_excel('score.xlsx')"
   ]
  },
  {
   "cell_type": "code",
   "execution_count": null,
   "metadata": {},
   "outputs": [
    {
     "data": {
      "text/plain": [
       "학교\n",
       "구로고     184.800000\n",
       "디지털고    193.333333\n",
       "Name: 키, dtype: float64"
      ]
     },
     "execution_count": 13,
     "metadata": {},
     "output_type": "execute_result"
    }
   ],
   "source": [
    "# 그룹화\n",
    "# 해당되는 그룹의 리스트 출력\n",
    "df.groupby('학교').get_group('구로고')\n",
    "# 해당되는 그룹의 학생수 확인\n",
    "df.groupby('학교').size()['구로고']\n",
    "df.groupby('학교').size()\n",
    "# 학교별 키의 평균값 출력\n",
    "df.groupby('학교')['키'].mean()"
   ]
  },
  {
   "cell_type": "code",
   "execution_count": null,
   "metadata": {},
   "outputs": [
    {
     "data": {
      "text/html": [
       "<div>\n",
       "<style scoped>\n",
       "    .dataframe tbody tr th:only-of-type {\n",
       "        vertical-align: middle;\n",
       "    }\n",
       "\n",
       "    .dataframe tbody tr th {\n",
       "        vertical-align: top;\n",
       "    }\n",
       "\n",
       "    .dataframe thead th {\n",
       "        text-align: right;\n",
       "    }\n",
       "</style>\n",
       "<table border=\"1\" class=\"dataframe\">\n",
       "  <thead>\n",
       "    <tr style=\"text-align: right;\">\n",
       "      <th></th>\n",
       "      <th>지원번호</th>\n",
       "      <th>이름</th>\n",
       "      <th>키</th>\n",
       "      <th>국어</th>\n",
       "      <th>영어</th>\n",
       "      <th>수학</th>\n",
       "      <th>과학</th>\n",
       "      <th>사회</th>\n",
       "      <th>SW특기</th>\n",
       "    </tr>\n",
       "    <tr>\n",
       "      <th>학교</th>\n",
       "      <th></th>\n",
       "      <th></th>\n",
       "      <th></th>\n",
       "      <th></th>\n",
       "      <th></th>\n",
       "      <th></th>\n",
       "      <th></th>\n",
       "      <th></th>\n",
       "      <th></th>\n",
       "    </tr>\n",
       "  </thead>\n",
       "  <tbody>\n",
       "    <tr>\n",
       "      <th>구로고</th>\n",
       "      <td>5</td>\n",
       "      <td>5</td>\n",
       "      <td>5</td>\n",
       "      <td>5</td>\n",
       "      <td>5</td>\n",
       "      <td>5</td>\n",
       "      <td>5</td>\n",
       "      <td>5</td>\n",
       "      <td>3</td>\n",
       "    </tr>\n",
       "    <tr>\n",
       "      <th>디지털고</th>\n",
       "      <td>3</td>\n",
       "      <td>3</td>\n",
       "      <td>3</td>\n",
       "      <td>3</td>\n",
       "      <td>3</td>\n",
       "      <td>3</td>\n",
       "      <td>3</td>\n",
       "      <td>3</td>\n",
       "      <td>3</td>\n",
       "    </tr>\n",
       "  </tbody>\n",
       "</table>\n",
       "</div>"
      ],
      "text/plain": [
       "      지원번호  이름  키  국어  영어  수학  과학  사회  SW특기\n",
       "학교                                         \n",
       "구로고      5   5  5   5   5   5   5   5     3\n",
       "디지털고     3   3  3   3   3   3   3   3     3"
      ]
     },
     "execution_count": 5,
     "metadata": {},
     "output_type": "execute_result"
    }
   ],
   "source": [
    "\n",
    "df.groupby(\"학교\").count()"
   ]
  },
  {
   "cell_type": "code",
   "execution_count": 15,
   "metadata": {},
   "outputs": [
    {
     "data": {
      "text/plain": [
       "학교\n",
       "구로고     5\n",
       "디지털고    3\n",
       "dtype: int64"
      ]
     },
     "execution_count": 15,
     "metadata": {},
     "output_type": "execute_result"
    }
   ],
   "source": [
    "df.groupby(\"학교\").size()"
   ]
  },
  {
   "cell_type": "code",
   "execution_count": 19,
   "metadata": {},
   "outputs": [
    {
     "data": {
      "text/plain": [
       "학교\n",
       "구로고     197\n",
       "디지털고    202\n",
       "Name: 키, dtype: int64"
      ]
     },
     "execution_count": 19,
     "metadata": {},
     "output_type": "execute_result"
    }
   ],
   "source": [
    "df.groupby('학교')['키'].mean()\n",
    "# 학교 그룹별 키, 국어점수 평균 출력\n",
    "df.groupby('학교')[['키','국어']].mean()\n",
    "df.groupby('학교')['키'].max()"
   ]
  },
  {
   "cell_type": "code",
   "execution_count": 21,
   "metadata": {},
   "outputs": [
    {
     "data": {
      "text/plain": [
       "학교\n",
       "구로고     184.800000\n",
       "디지털고    193.333333\n",
       "Name: 키, dtype: float64"
      ]
     },
     "execution_count": 21,
     "metadata": {},
     "output_type": "execute_result"
    }
   ],
   "source": [
    "df.groupby('학교')\n",
    "df.groupby('학교')['키'].mean()"
   ]
  },
  {
   "cell_type": "code",
   "execution_count": null,
   "metadata": {},
   "outputs": [
    {
     "data": {
      "text/plain": [
       "학교    이름 \n",
       "구로고   강나래    1\n",
       "      강태원    1\n",
       "      강호림    1\n",
       "      김수찬    0\n",
       "      김재욱    0\n",
       "디지털고  박동현    1\n",
       "      박혜정    1\n",
       "      승근열    1\n",
       "Name: SW특기, dtype: int64"
      ]
     },
     "execution_count": 34,
     "metadata": {},
     "output_type": "execute_result"
    }
   ],
   "source": [
    "df['학년']=[3,3,2,1,3,2,2,1]\n",
    "df.groupby('학교')['SW특기'].count()\n",
    "df.groupby(['학교','학년']).size()\n",
    "\n",
    "df.groupby('학교')[['이름','SW특기']].count()"
   ]
  },
  {
   "cell_type": "code",
   "execution_count": null,
   "metadata": {},
   "outputs": [
    {
     "data": {
      "text/plain": [
       "학교\n",
       "구로고     197\n",
       "디지털고    202\n",
       "Name: 키, dtype: int64"
      ]
     },
     "execution_count": 41,
     "metadata": {},
     "output_type": "execute_result"
    }
   ],
   "source": [
    "df.groupby(\"학교\").count()\n",
    "df.groupby(\"학년\")['이름'].count()\n",
    "df.groupby(\"학교\").sum().sort_values('키')\n",
    "df.groupby(\"학교\")['키'].max()\n"
   ]
  },
  {
   "cell_type": "code",
   "execution_count": null,
   "metadata": {},
   "outputs": [
    {
     "data": {
      "text/plain": [
       "학년\n",
       "3    189.666667\n",
       "1    188.500000\n",
       "2    186.000000\n",
       "Name: 키, dtype: float64"
      ]
     },
     "execution_count": 50,
     "metadata": {},
     "output_type": "execute_result"
    }
   ],
   "source": [
    "# 그룹화\n",
    "# 컬럼을 기준으로 그룹핑 - sum():합계 count():개수 size():크기\n",
    "df.groupby('학교').count()\n",
    "df.groupby(['학교','학년']).count()\n",
    "## mean(),max(),min() >> 숫자타입 컬럼 지정 필요\n",
    "df.groupby(\"학교\").sum()\n",
    "# df.groupby('학교')['이름'].min() # 에러\n",
    "\n",
    "# 그룹별 키로 정렬 , ascending=False : 역순정렬\n",
    "df.groupby(\"학년\")['키'].mean().sort_values(ascending=False)\n"
   ]
  },
  {
   "cell_type": "code",
   "execution_count": null,
   "metadata": {},
   "outputs": [
    {
     "data": {
      "text/plain": [
       "학교    학년\n",
       "구로고   3     3\n",
       "      1     1\n",
       "      2     1\n",
       "디지털고  2     2\n",
       "      1     1\n",
       "Name: count, dtype: int64"
      ]
     },
     "execution_count": 53,
     "metadata": {},
     "output_type": "execute_result"
    }
   ],
   "source": [
    "# 학교로 그룹핑 학년으로 학생수를 출력\n",
    "df.groupby('학교')['학년'].value_counts()"
   ]
  },
  {
   "cell_type": "code",
   "execution_count": 54,
   "metadata": {},
   "outputs": [
    {
     "data": {
      "text/plain": [
       "지원번호  이름   학교    키    국어   영어   수학   과학  사회  SW특기        학년\n",
       "1번    강나래  구로고   197  90   85   100  95  85  Python      3     1\n",
       "2번    강태원  구로고   184  40   35   50   55  25  Java        3     1\n",
       "3번    강호림  구로고   168  80   75   70   80  75  Javascript  2     1\n",
       "6번    박동현  디지털고  202  80   100  95   85  80  C           2     1\n",
       "7번    박혜정  디지털고  188  55   65   45   40  35  PYTHON      2     1\n",
       "8번    승근열  디지털고  190  100  85   90   95  95  C#          1     1\n",
       "Name: count, dtype: int64"
      ]
     },
     "execution_count": 54,
     "metadata": {},
     "output_type": "execute_result"
    }
   ],
   "source": [
    "df.value_counts()"
   ]
  },
  {
   "cell_type": "code",
   "execution_count": null,
   "metadata": {},
   "outputs": [
    {
     "data": {
      "text/plain": [
       "학년\n",
       "3    0.6\n",
       "1    0.2\n",
       "2    0.2\n",
       "Name: proportion, dtype: float64"
      ]
     },
     "execution_count": 56,
     "metadata": {},
     "output_type": "execute_result"
    }
   ],
   "source": [
    "# 학교로 그룹핑을 해서 구로고 학생만 학년으로 학생수 출력\n",
    "# value_count : 그룹핑 개수\n",
    "df.groupby(\"학교\")[\"학년\"].value_counts().loc['구로고']\n",
    "# 퍼센트로 출력됨 : normalize = True\n",
    "df.groupby(\"학교\")[\"학년\"].value_counts(normalize=True).loc['구로고']"
   ]
  },
  {
   "cell_type": "code",
   "execution_count": 3,
   "metadata": {},
   "outputs": [
    {
     "data": {
      "text/plain": [
       "학교\n",
       "구로고     5\n",
       "디지털고    3\n",
       "Name: count, dtype: int64"
      ]
     },
     "execution_count": 3,
     "metadata": {},
     "output_type": "execute_result"
    }
   ],
   "source": [
    "df[\"학교\"].value_counts()"
   ]
  },
  {
   "cell_type": "code",
   "execution_count": 10,
   "metadata": {},
   "outputs": [
    {
     "data": {
      "text/plain": [
       "학교\n",
       "구로고     924\n",
       "디지털고    580\n",
       "Name: 키, dtype: int64"
      ]
     },
     "execution_count": 10,
     "metadata": {},
     "output_type": "execute_result"
    }
   ],
   "source": [
    "# 구로고 학생의 키의 합계\n",
    "df.groupby('학교')['키'].sum()\n"
   ]
  },
  {
   "cell_type": "code",
   "execution_count": 16,
   "metadata": {},
   "outputs": [
    {
     "data": {
      "text/html": [
       "<div>\n",
       "<style scoped>\n",
       "    .dataframe tbody tr th:only-of-type {\n",
       "        vertical-align: middle;\n",
       "    }\n",
       "\n",
       "    .dataframe tbody tr th {\n",
       "        vertical-align: top;\n",
       "    }\n",
       "\n",
       "    .dataframe thead th {\n",
       "        text-align: right;\n",
       "    }\n",
       "</style>\n",
       "<table border=\"1\" class=\"dataframe\">\n",
       "  <thead>\n",
       "    <tr style=\"text-align: right;\">\n",
       "      <th></th>\n",
       "      <th>mean</th>\n",
       "      <th>min</th>\n",
       "      <th>max</th>\n",
       "      <th>sum</th>\n",
       "    </tr>\n",
       "    <tr>\n",
       "      <th>학교</th>\n",
       "      <th></th>\n",
       "      <th></th>\n",
       "      <th></th>\n",
       "      <th></th>\n",
       "    </tr>\n",
       "  </thead>\n",
       "  <tbody>\n",
       "    <tr>\n",
       "      <th>구로고</th>\n",
       "      <td>184.800000</td>\n",
       "      <td>168</td>\n",
       "      <td>197</td>\n",
       "      <td>924</td>\n",
       "    </tr>\n",
       "    <tr>\n",
       "      <th>디지털고</th>\n",
       "      <td>193.333333</td>\n",
       "      <td>188</td>\n",
       "      <td>202</td>\n",
       "      <td>580</td>\n",
       "    </tr>\n",
       "  </tbody>\n",
       "</table>\n",
       "</div>"
      ],
      "text/plain": [
       "            mean  min  max  sum\n",
       "학교                             \n",
       "구로고   184.800000  168  197  924\n",
       "디지털고  193.333333  188  202  580"
      ]
     },
     "execution_count": 16,
     "metadata": {},
     "output_type": "execute_result"
    }
   ],
   "source": [
    "df.groupby('학교')['키'].mean()\n",
    "df.groupby('학교')['키'].min()\n",
    "df.groupby('학교')['키'].max()\n",
    "df.groupby('학교')['키'].sum()\n",
    "df.groupby('학교')['키'].agg(['mean','min','max','sum'])"
   ]
  },
  {
   "cell_type": "code",
   "execution_count": 18,
   "metadata": {},
   "outputs": [
    {
     "data": {
      "text/plain": [
       "키\n",
       "188    2\n",
       "184    1\n",
       "197    1\n",
       "168    1\n",
       "187    1\n",
       "202    1\n",
       "190    1\n",
       "Name: count, dtype: int64"
      ]
     },
     "execution_count": 18,
     "metadata": {},
     "output_type": "execute_result"
    }
   ],
   "source": [
    "df['키'].value_counts()"
   ]
  },
  {
   "cell_type": "code",
   "execution_count": null,
   "metadata": {},
   "outputs": [],
   "source": []
  }
 ],
 "metadata": {
  "kernelspec": {
   "display_name": "Python 3",
   "language": "python",
   "name": "python3"
  },
  "language_info": {
   "codemirror_mode": {
    "name": "ipython",
    "version": 3
   },
   "file_extension": ".py",
   "mimetype": "text/x-python",
   "name": "python",
   "nbconvert_exporter": "python",
   "pygments_lexer": "ipython3",
   "version": "3.12.6"
  }
 },
 "nbformat": 4,
 "nbformat_minor": 2
}
