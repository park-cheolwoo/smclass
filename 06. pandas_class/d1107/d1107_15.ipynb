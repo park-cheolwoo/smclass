{
 "cells": [
  {
   "cell_type": "code",
   "execution_count": null,
   "metadata": {},
   "outputs": [
    {
     "name": "stderr",
     "output_type": "stream",
     "text": [
      "c:\\python\\Lib\\site-packages\\openpyxl\\styles\\stylesheet.py:237: UserWarning: Workbook contains no default style, apply openpyxl's default\n",
      "  warn(\"Workbook contains no default style, apply openpyxl's default\")\n"
     ]
    },
    {
     "data": {
      "text/plain": [
       "0~4세       1,417,505\n",
       "5~9세       2,093,251\n",
       "10~14세     2,355,722\n",
       "15~19세     2,346,760\n",
       "20~24세     2,926,871\n",
       "25~29세     3,466,590\n",
       "30~34세     3,317,585\n",
       "35~39세     3,282,667\n",
       "40~44세     4,035,632\n",
       "45~49세     4,030,089\n",
       "50~54세     4,547,454\n",
       "55~59세     4,069,470\n",
       "60~64세     4,229,648\n",
       "65~69세     3,204,685\n",
       "70~74세     2,212,874\n",
       "75~79세     1,622,325\n",
       "80~84세     1,310,416\n",
       "85~89세       672,658\n",
       "90~94세       231,219\n",
       "95~99세        48,686\n",
       "100세 이상        7,911\n",
       "Name: 전국, dtype: object"
      ]
     },
     "execution_count": 129,
     "metadata": {},
     "output_type": "execute_result"
    }
   ],
   "source": [
    "import pandas as pd\n",
    "import numpy as np\n",
    "df = pd.read_excel('연령별인구현황01.xlsx',index_col = '행정기관',skiprows=3,nrows=1,usecols='B,E:Y')\n",
    "# df.loc['전국']\n",
    "df.index.values\n",
    "# 빈공백 제거\n",
    "df.index[0].strip()\n",
    "# index 1번째 row데이터를 출력\n",
    "df.loc[df.index[0]]  # df.loc['전국  ']\n",
    "# index 이름을 변경\n",
    "df.rename(index={\"전국  \": \"전국\"},inplace=True)\n",
    "df.loc['전국']\n"
   ]
  },
  {
   "cell_type": "code",
   "execution_count": 131,
   "metadata": {},
   "outputs": [],
   "source": [
    "# df.loc['전국'] = df.loc['전국'].str.replace(\",\",\"\").astype(int)\n",
    "df.loc[\"전국\"] = df.loc[\"전국\"].str.replace(\",\", \"\").astype(int)"
   ]
  },
  {
   "cell_type": "code",
   "execution_count": 62,
   "metadata": {},
   "outputs": [
    {
     "name": "stderr",
     "output_type": "stream",
     "text": [
      "c:\\python\\Lib\\site-packages\\openpyxl\\styles\\stylesheet.py:237: UserWarning: Workbook contains no default style, apply openpyxl's default\n",
      "  warn(\"Workbook contains no default style, apply openpyxl's default\")\n"
     ]
    },
    {
     "data": {
      "text/plain": [
       "array(['전국  '], dtype=object)"
      ]
     },
     "execution_count": 62,
     "metadata": {},
     "output_type": "execute_result"
    }
   ],
   "source": [
    "import pandas as pd\n",
    "import numpy as np\n",
    "\n",
    "df = pd.read_excel(\n",
    "    \"연령별인구현황01.xlsx\", index_col=\"행정기관\", skiprows=3, nrows=1, usecols=\"B,E:Y\"\n",
    ")\n",
    "df.index.values"
   ]
  },
  {
   "cell_type": "code",
   "execution_count": null,
   "metadata": {},
   "outputs": [
    {
     "name": "stderr",
     "output_type": "stream",
     "text": [
      "c:\\python\\Lib\\site-packages\\openpyxl\\styles\\stylesheet.py:237: UserWarning: Workbook contains no default style, apply openpyxl's default\n",
      "  warn(\"Workbook contains no default style, apply openpyxl's default\")\n"
     ]
    },
    {
     "data": {
      "text/plain": [
       "np.float64(230.0)"
      ]
     },
     "execution_count": 110,
     "metadata": {},
     "output_type": "execute_result"
    }
   ],
   "source": [
    "## 이름변경\n",
    "# 출생아수 최대/최소값\n",
    "# 축 변경\n",
    "\n",
    "import pandas as pd\n",
    "df = pd.read_excel('합계출산율2.xlsx',skiprows=2,skipfooter=2,index_col=0)\n",
    "# df.T.columns.values\n",
    "# df.loc['출생아\\xa0수'], df.iloc[0]\n",
    "\n",
    "df.rename(index={'출생아\\xa0수':'출생아 수','합계\\xa0출산율':'합계 출산율'},inplace=True)\n",
    "# df = df.T\n",
    "df.T.columns.values\n",
    "\n",
    "df.T['출생아 수'].max()\n",
    "df.T['출생아 수'].min()"
   ]
  },
  {
   "cell_type": "code",
   "execution_count": 144,
   "metadata": {},
   "outputs": [
    {
     "name": "stderr",
     "output_type": "stream",
     "text": [
      "c:\\python\\Lib\\site-packages\\openpyxl\\styles\\stylesheet.py:237: UserWarning: Workbook contains no default style, apply openpyxl's default\n",
      "  warn(\"Workbook contains no default style, apply openpyxl's default\")\n"
     ]
    },
    {
     "data": {
      "text/html": [
       "<div>\n",
       "<style scoped>\n",
       "    .dataframe tbody tr th:only-of-type {\n",
       "        vertical-align: middle;\n",
       "    }\n",
       "\n",
       "    .dataframe tbody tr th {\n",
       "        vertical-align: top;\n",
       "    }\n",
       "\n",
       "    .dataframe thead th {\n",
       "        text-align: right;\n",
       "    }\n",
       "</style>\n",
       "<table border=\"1\" class=\"dataframe\">\n",
       "  <thead>\n",
       "    <tr style=\"text-align: right;\">\n",
       "      <th></th>\n",
       "      <th>출생아 수</th>\n",
       "      <th>합계 출산율</th>\n",
       "    </tr>\n",
       "  </thead>\n",
       "  <tbody>\n",
       "    <tr>\n",
       "      <th>2014</th>\n",
       "      <td>435.4</td>\n",
       "      <td>1.205</td>\n",
       "    </tr>\n",
       "    <tr>\n",
       "      <th>2015</th>\n",
       "      <td>438.4</td>\n",
       "      <td>1.239</td>\n",
       "    </tr>\n",
       "    <tr>\n",
       "      <th>2016</th>\n",
       "      <td>406.2</td>\n",
       "      <td>1.172</td>\n",
       "    </tr>\n",
       "    <tr>\n",
       "      <th>2017</th>\n",
       "      <td>357.8</td>\n",
       "      <td>1.052</td>\n",
       "    </tr>\n",
       "  </tbody>\n",
       "</table>\n",
       "</div>"
      ],
      "text/plain": [
       "      출생아 수  합계 출산율\n",
       "2014  435.4   1.205\n",
       "2015  438.4   1.239\n",
       "2016  406.2   1.172\n",
       "2017  357.8   1.052"
      ]
     },
     "execution_count": 144,
     "metadata": {},
     "output_type": "execute_result"
    }
   ],
   "source": [
    "import pandas as pd\n",
    "\n",
    "df = pd.read_excel('합계출산율2.xlsx',index_col = 0,skiprows=2,skipfooter=2)\n",
    "df\n",
    "df.index.values\n",
    "df.rename(index={\"출생아\\xa0수\":\"출생아 수\",\"합계\\xa0출산율\":\"합계 출산율\"},inplace=True)\n",
    "df.index.values\n",
    "\n",
    "df=df.T\n",
    "df\n",
    "df.describe()\n",
    "df['출생아 수']\n",
    "\n",
    "filt = (df['출생아 수']>=300) & (df['합계 출산율']>=1)\n",
    "df[filt]"
   ]
  },
  {
   "cell_type": "code",
   "execution_count": null,
   "metadata": {},
   "outputs": [],
   "source": []
  }
 ],
 "metadata": {
  "kernelspec": {
   "display_name": "Python 3",
   "language": "python",
   "name": "python3"
  },
  "language_info": {
   "codemirror_mode": {
    "name": "ipython",
    "version": 3
   },
   "file_extension": ".py",
   "mimetype": "text/x-python",
   "name": "python",
   "nbconvert_exporter": "python",
   "pygments_lexer": "ipython3",
   "version": "3.12.6"
  }
 },
 "nbformat": 4,
 "nbformat_minor": 2
}
