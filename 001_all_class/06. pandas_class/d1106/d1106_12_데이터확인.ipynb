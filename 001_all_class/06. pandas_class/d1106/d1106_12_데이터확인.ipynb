{
 "cells": [
  {
   "cell_type": "code",
   "execution_count": 11,
   "metadata": {},
   "outputs": [],
   "source": [
    "import pandas as pd"
   ]
  },
  {
   "cell_type": "code",
   "execution_count": null,
   "metadata": {},
   "outputs": [
    {
     "name": "stdout",
     "output_type": "stream",
     "text": [
      "<class 'pandas.core.frame.DataFrame'>\n",
      "RangeIndex: 1000 entries, 0 to 999\n",
      "Data columns (total 7 columns):\n",
      " #   Column  Non-Null Count  Dtype \n",
      "---  ------  --------------  ----- \n",
      " 0   이름      1000 non-null   object\n",
      " 1   학교      1000 non-null   object\n",
      " 2   영어      1000 non-null   int64 \n",
      " 3   수학      1000 non-null   int64 \n",
      " 4   과학      1000 non-null   int64 \n",
      " 5   사회      1000 non-null   int64 \n",
      " 6   sw특기    530 non-null    object\n",
      "dtypes: int64(4), object(3)\n",
      "memory usage: 54.8+ KB\n"
     ]
    },
    {
     "data": {
      "text/plain": [
       "count    1000.000000\n",
       "mean       72.397000\n",
       "std        16.236595\n",
       "min        45.000000\n",
       "25%        59.000000\n",
       "50%        72.000000\n",
       "75%        86.000000\n",
       "max       100.000000\n",
       "Name: 수학, dtype: float64"
      ]
     },
     "execution_count": 3,
     "metadata": {},
     "output_type": "execute_result"
    }
   ],
   "source": [
    "df = pd.read_excel('pandas_code.xlsx')\n",
    "df\n",
    "df.info()\n",
    "df.describe()\n",
    "df['수학'].describe()"
   ]
  },
  {
   "cell_type": "code",
   "execution_count": 14,
   "metadata": {},
   "outputs": [
    {
     "data": {
      "text/plain": [
       "18     45\n",
       "117    45\n",
       "188    45\n",
       "Name: 수학, dtype: int64"
      ]
     },
     "execution_count": 14,
     "metadata": {},
     "output_type": "execute_result"
    }
   ],
   "source": [
    "df['수학'].min() # 최소값\n",
    "df['수학'].max() # 최대값\n",
    "df['수학'].mean() # 평균\n",
    "df['수학'].std() # 표준편차\n",
    "df['수학'].nlargest(3) # 최대값 3명 출력\n",
    "df['수학'].nsmallest(3) # 최소값 3명 출력"
   ]
  },
  {
   "cell_type": "code",
   "execution_count": null,
   "metadata": {},
   "outputs": [
    {
     "data": {
      "text/plain": [
       "np.int64(8)"
      ]
     },
     "execution_count": 13,
     "metadata": {},
     "output_type": "execute_result"
    }
   ],
   "source": [
    "df = pd.read_excel('score.xlsx')\n",
    "df['키'].min()\n",
    "df['키'].max()\n",
    "df['키'].mean()\n",
    "df['키'].nlargest(3) # 기본 : 5명\n",
    "df['키'].nsmallest(3)\n",
    "df['국어'].sum()\n",
    "df['키'].count()\n",
    "df['SW특기'].count() # 개수 확인\n",
    "df[\"학교\"].unique() # 중복 제외 확인\n",
    "df['학교'].nunique() # 중복 제외 개수 확인"
   ]
  },
  {
   "cell_type": "code",
   "execution_count": null,
   "metadata": {},
   "outputs": [
    {
     "data": {
      "text/plain": [
       "'SW특기'"
      ]
     },
     "execution_count": 19,
     "metadata": {},
     "output_type": "execute_result"
    }
   ],
   "source": [
    "# 컬럼에 대한 확인\n",
    "df['키']\n",
    "df[['이름','키']] # 2개 이상일 때는 대괄호 2개 [[]]\n",
    "df['이름'],df['키']\n",
    "\n",
    "# 모든 컬럼 확인\n",
    "df.columns\n",
    "df.columns[0]\n",
    "df.columns[2:5] # 컬럼 슬라이싱\n",
    "df.columns[-1]\n",
    "# 컬럼 데이터 확인 - 제일 마지막 컬럼의 데이터 확인\n",
    "df['SW특기']\n",
    "df.columns[-1]"
   ]
  },
  {
   "cell_type": "code",
   "execution_count": null,
   "metadata": {},
   "outputs": [
    {
     "data": {
      "text/html": [
       "<div>\n",
       "<style scoped>\n",
       "    .dataframe tbody tr th:only-of-type {\n",
       "        vertical-align: middle;\n",
       "    }\n",
       "\n",
       "    .dataframe tbody tr th {\n",
       "        vertical-align: top;\n",
       "    }\n",
       "\n",
       "    .dataframe thead th {\n",
       "        text-align: right;\n",
       "    }\n",
       "</style>\n",
       "<table border=\"1\" class=\"dataframe\">\n",
       "  <thead>\n",
       "    <tr style=\"text-align: right;\">\n",
       "      <th></th>\n",
       "      <th>이름</th>\n",
       "      <th>국어</th>\n",
       "      <th>SW특기</th>\n",
       "    </tr>\n",
       "  </thead>\n",
       "  <tbody>\n",
       "    <tr>\n",
       "      <th>0</th>\n",
       "      <td>강나래</td>\n",
       "      <td>90</td>\n",
       "      <td>Python</td>\n",
       "    </tr>\n",
       "    <tr>\n",
       "      <th>1</th>\n",
       "      <td>강태원</td>\n",
       "      <td>40</td>\n",
       "      <td>Java</td>\n",
       "    </tr>\n",
       "    <tr>\n",
       "      <th>2</th>\n",
       "      <td>강호림</td>\n",
       "      <td>80</td>\n",
       "      <td>Javascript</td>\n",
       "    </tr>\n",
       "    <tr>\n",
       "      <th>3</th>\n",
       "      <td>김수찬</td>\n",
       "      <td>40</td>\n",
       "      <td></td>\n",
       "    </tr>\n",
       "    <tr>\n",
       "      <th>4</th>\n",
       "      <td>김재욱</td>\n",
       "      <td>15</td>\n",
       "      <td></td>\n",
       "    </tr>\n",
       "    <tr>\n",
       "      <th>5</th>\n",
       "      <td>박동현</td>\n",
       "      <td>80</td>\n",
       "      <td>C</td>\n",
       "    </tr>\n",
       "    <tr>\n",
       "      <th>6</th>\n",
       "      <td>박혜정</td>\n",
       "      <td>55</td>\n",
       "      <td>Python</td>\n",
       "    </tr>\n",
       "    <tr>\n",
       "      <th>7</th>\n",
       "      <td>승근열</td>\n",
       "      <td>100</td>\n",
       "      <td>C#</td>\n",
       "    </tr>\n",
       "  </tbody>\n",
       "</table>\n",
       "</div>"
      ],
      "text/plain": [
       "    이름   국어        SW특기\n",
       "0  강나래   90      Python\n",
       "1  강태원   40        Java\n",
       "2  강호림   80  Javascript\n",
       "3  김수찬   40            \n",
       "4  김재욱   15            \n",
       "5  박동현   80           C\n",
       "6  박혜정   55      Python\n",
       "7  승근열  100          C#"
      ]
     },
     "execution_count": 21,
     "metadata": {},
     "output_type": "execute_result"
    }
   ],
   "source": [
    "df[df.columns[[0,3,-1]]] # 0,3,마지막 컬럼 데이터 확인"
   ]
  },
  {
   "cell_type": "code",
   "execution_count": null,
   "metadata": {},
   "outputs": [],
   "source": []
  }
 ],
 "metadata": {
  "kernelspec": {
   "display_name": "Python 3",
   "language": "python",
   "name": "python3"
  },
  "language_info": {
   "codemirror_mode": {
    "name": "ipython",
    "version": 3
   },
   "file_extension": ".py",
   "mimetype": "text/x-python",
   "name": "python",
   "nbconvert_exporter": "python",
   "pygments_lexer": "ipython3",
   "version": "3.12.6"
  }
 },
 "nbformat": 4,
 "nbformat_minor": 2
}
